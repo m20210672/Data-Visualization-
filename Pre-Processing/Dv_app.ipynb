{
 "cells": [
  {
   "cell_type": "markdown",
   "metadata": {},
   "source": [
    "# Data Pre-Processing"
   ]
  },
  {
   "cell_type": "code",
   "execution_count": 1,
   "metadata": {},
   "outputs": [],
   "source": [
    "import numpy as np\n",
    "import pandas as pd\n",
    "import warnings\n",
    "warnings.filterwarnings(\"ignore\")"
   ]
  },
  {
   "cell_type": "code",
   "execution_count": 2,
   "metadata": {},
   "outputs": [],
   "source": [
    "data = pd.read_csv('nutrition.csv')"
   ]
  },
  {
   "cell_type": "code",
   "execution_count": 3,
   "metadata": {},
   "outputs": [
    {
     "data": {
      "text/html": [
       "<div>\n",
       "<style scoped>\n",
       "    .dataframe tbody tr th:only-of-type {\n",
       "        vertical-align: middle;\n",
       "    }\n",
       "\n",
       "    .dataframe tbody tr th {\n",
       "        vertical-align: top;\n",
       "    }\n",
       "\n",
       "    .dataframe thead th {\n",
       "        text-align: right;\n",
       "    }\n",
       "</style>\n",
       "<table border=\"1\" class=\"dataframe\">\n",
       "  <thead>\n",
       "    <tr style=\"text-align: right;\">\n",
       "      <th></th>\n",
       "      <th>Unnamed: 0</th>\n",
       "      <th>name</th>\n",
       "      <th>serving_size</th>\n",
       "      <th>calories</th>\n",
       "      <th>total_fat</th>\n",
       "      <th>saturated_fat</th>\n",
       "      <th>cholesterol</th>\n",
       "      <th>sodium</th>\n",
       "      <th>choline</th>\n",
       "      <th>folate</th>\n",
       "      <th>...</th>\n",
       "      <th>fat</th>\n",
       "      <th>saturated_fatty_acids</th>\n",
       "      <th>monounsaturated_fatty_acids</th>\n",
       "      <th>polyunsaturated_fatty_acids</th>\n",
       "      <th>fatty_acids_total_trans</th>\n",
       "      <th>alcohol</th>\n",
       "      <th>ash</th>\n",
       "      <th>caffeine</th>\n",
       "      <th>theobromine</th>\n",
       "      <th>water</th>\n",
       "    </tr>\n",
       "  </thead>\n",
       "  <tbody>\n",
       "    <tr>\n",
       "      <th>0</th>\n",
       "      <td>0</td>\n",
       "      <td>Cornstarch</td>\n",
       "      <td>100 g</td>\n",
       "      <td>381</td>\n",
       "      <td>0.1g</td>\n",
       "      <td>NaN</td>\n",
       "      <td>0</td>\n",
       "      <td>9.00 mg</td>\n",
       "      <td>0.4 mg</td>\n",
       "      <td>0.00 mcg</td>\n",
       "      <td>...</td>\n",
       "      <td>0.05 g</td>\n",
       "      <td>0.009 g</td>\n",
       "      <td>0.016 g</td>\n",
       "      <td>0.025 g</td>\n",
       "      <td>0.00 mg</td>\n",
       "      <td>0.0 g</td>\n",
       "      <td>0.09 g</td>\n",
       "      <td>0.00 mg</td>\n",
       "      <td>0.00 mg</td>\n",
       "      <td>8.32 g</td>\n",
       "    </tr>\n",
       "    <tr>\n",
       "      <th>1</th>\n",
       "      <td>1</td>\n",
       "      <td>Nuts, pecans</td>\n",
       "      <td>100 g</td>\n",
       "      <td>691</td>\n",
       "      <td>72g</td>\n",
       "      <td>6.2g</td>\n",
       "      <td>0</td>\n",
       "      <td>0.00 mg</td>\n",
       "      <td>40.5 mg</td>\n",
       "      <td>22.00 mcg</td>\n",
       "      <td>...</td>\n",
       "      <td>71.97 g</td>\n",
       "      <td>6.180 g</td>\n",
       "      <td>40.801 g</td>\n",
       "      <td>21.614 g</td>\n",
       "      <td>0.00 mg</td>\n",
       "      <td>0.0 g</td>\n",
       "      <td>1.49 g</td>\n",
       "      <td>0.00 mg</td>\n",
       "      <td>0.00 mg</td>\n",
       "      <td>3.52 g</td>\n",
       "    </tr>\n",
       "    <tr>\n",
       "      <th>2</th>\n",
       "      <td>2</td>\n",
       "      <td>Eggplant, raw</td>\n",
       "      <td>100 g</td>\n",
       "      <td>25</td>\n",
       "      <td>0.2g</td>\n",
       "      <td>NaN</td>\n",
       "      <td>0</td>\n",
       "      <td>2.00 mg</td>\n",
       "      <td>6.9 mg</td>\n",
       "      <td>22.00 mcg</td>\n",
       "      <td>...</td>\n",
       "      <td>0.18 g</td>\n",
       "      <td>0.034 g</td>\n",
       "      <td>0.016 g</td>\n",
       "      <td>0.076 g</td>\n",
       "      <td>0.00 mg</td>\n",
       "      <td>0.0 g</td>\n",
       "      <td>0.66 g</td>\n",
       "      <td>0.00 mg</td>\n",
       "      <td>0.00 mg</td>\n",
       "      <td>92.30 g</td>\n",
       "    </tr>\n",
       "    <tr>\n",
       "      <th>3</th>\n",
       "      <td>3</td>\n",
       "      <td>Teff, uncooked</td>\n",
       "      <td>100 g</td>\n",
       "      <td>367</td>\n",
       "      <td>2.4g</td>\n",
       "      <td>0.4g</td>\n",
       "      <td>0</td>\n",
       "      <td>12.00 mg</td>\n",
       "      <td>13.1 mg</td>\n",
       "      <td>0</td>\n",
       "      <td>...</td>\n",
       "      <td>2.38 g</td>\n",
       "      <td>0.449 g</td>\n",
       "      <td>0.589 g</td>\n",
       "      <td>1.071 g</td>\n",
       "      <td>0</td>\n",
       "      <td>0</td>\n",
       "      <td>2.37 g</td>\n",
       "      <td>0</td>\n",
       "      <td>0</td>\n",
       "      <td>8.82 g</td>\n",
       "    </tr>\n",
       "    <tr>\n",
       "      <th>4</th>\n",
       "      <td>4</td>\n",
       "      <td>Sherbet, orange</td>\n",
       "      <td>100 g</td>\n",
       "      <td>144</td>\n",
       "      <td>2g</td>\n",
       "      <td>1.2g</td>\n",
       "      <td>1mg</td>\n",
       "      <td>46.00 mg</td>\n",
       "      <td>7.7 mg</td>\n",
       "      <td>4.00 mcg</td>\n",
       "      <td>...</td>\n",
       "      <td>2.00 g</td>\n",
       "      <td>1.160 g</td>\n",
       "      <td>0.530 g</td>\n",
       "      <td>0.080 g</td>\n",
       "      <td>1.00 mg</td>\n",
       "      <td>0.0 g</td>\n",
       "      <td>0.40 g</td>\n",
       "      <td>0.00 mg</td>\n",
       "      <td>0.00 mg</td>\n",
       "      <td>66.10 g</td>\n",
       "    </tr>\n",
       "  </tbody>\n",
       "</table>\n",
       "<p>5 rows × 77 columns</p>\n",
       "</div>"
      ],
      "text/plain": [
       "   Unnamed: 0             name serving_size  calories total_fat saturated_fat  \\\n",
       "0           0       Cornstarch        100 g       381      0.1g           NaN   \n",
       "1           1     Nuts, pecans        100 g       691       72g          6.2g   \n",
       "2           2    Eggplant, raw        100 g        25      0.2g           NaN   \n",
       "3           3   Teff, uncooked        100 g       367      2.4g          0.4g   \n",
       "4           4  Sherbet, orange        100 g       144        2g          1.2g   \n",
       "\n",
       "  cholesterol    sodium  choline     folate  ...      fat  \\\n",
       "0           0   9.00 mg   0.4 mg   0.00 mcg  ...   0.05 g   \n",
       "1           0   0.00 mg  40.5 mg  22.00 mcg  ...  71.97 g   \n",
       "2           0   2.00 mg   6.9 mg  22.00 mcg  ...   0.18 g   \n",
       "3           0  12.00 mg  13.1 mg          0  ...   2.38 g   \n",
       "4         1mg  46.00 mg   7.7 mg   4.00 mcg  ...   2.00 g   \n",
       "\n",
       "  saturated_fatty_acids monounsaturated_fatty_acids  \\\n",
       "0               0.009 g                     0.016 g   \n",
       "1               6.180 g                    40.801 g   \n",
       "2               0.034 g                     0.016 g   \n",
       "3               0.449 g                     0.589 g   \n",
       "4               1.160 g                     0.530 g   \n",
       "\n",
       "  polyunsaturated_fatty_acids fatty_acids_total_trans alcohol     ash  \\\n",
       "0                     0.025 g                 0.00 mg   0.0 g  0.09 g   \n",
       "1                    21.614 g                 0.00 mg   0.0 g  1.49 g   \n",
       "2                     0.076 g                 0.00 mg   0.0 g  0.66 g   \n",
       "3                     1.071 g                       0       0  2.37 g   \n",
       "4                     0.080 g                 1.00 mg   0.0 g  0.40 g   \n",
       "\n",
       "  caffeine theobromine    water  \n",
       "0  0.00 mg     0.00 mg   8.32 g  \n",
       "1  0.00 mg     0.00 mg   3.52 g  \n",
       "2  0.00 mg     0.00 mg  92.30 g  \n",
       "3        0           0   8.82 g  \n",
       "4  0.00 mg     0.00 mg  66.10 g  \n",
       "\n",
       "[5 rows x 77 columns]"
      ]
     },
     "execution_count": 3,
     "metadata": {},
     "output_type": "execute_result"
    }
   ],
   "source": [
    "data.head()"
   ]
  },
  {
   "cell_type": "code",
   "execution_count": 4,
   "metadata": {},
   "outputs": [],
   "source": [
    "common_vegetables = ['Asparagus,raw'\n",
    "                , 'Bamboo shoots, raw','Lettuce, raw, green leaf','Cabbage, raw','Cauliflower, raw',\n",
    "                    'Leeks, raw, (bulb and lower leaf-portion)','Broccoli, raw','Eggplant, raw',\n",
    "                    'Brussels sprouts, raw','Asparagus, raw','Onions, raw',\n",
    "                    'Onions, raw, sweet','Garlic, raw','Peppers, raw, jalapeno','Spinach, raw',\n",
    "                    'Carrots, raw','Peas, raw, green','Ginger root, raw',\n",
    "                    'Corn, raw, yellow, sweet','Pumpkin, raw','Mushrooms, raw, white']"
   ]
  },
  {
   "cell_type": "code",
   "execution_count": 5,
   "metadata": {},
   "outputs": [],
   "source": [
    "vegetal = data.loc[data['name'] == 'Arugula, raw']"
   ]
  },
  {
   "cell_type": "code",
   "execution_count": 6,
   "metadata": {},
   "outputs": [],
   "source": [
    "for i in common_vegetables:\n",
    "    vegetal = pd.concat([vegetal,data.loc[data['name'] == i]])"
   ]
  },
  {
   "cell_type": "code",
   "execution_count": 7,
   "metadata": {},
   "outputs": [],
   "source": [
    "vegetal['Category'] = 'Vegetables'"
   ]
  },
  {
   "cell_type": "code",
   "execution_count": 8,
   "metadata": {},
   "outputs": [
    {
     "data": {
      "text/html": [
       "<div>\n",
       "<style scoped>\n",
       "    .dataframe tbody tr th:only-of-type {\n",
       "        vertical-align: middle;\n",
       "    }\n",
       "\n",
       "    .dataframe tbody tr th {\n",
       "        vertical-align: top;\n",
       "    }\n",
       "\n",
       "    .dataframe thead th {\n",
       "        text-align: right;\n",
       "    }\n",
       "</style>\n",
       "<table border=\"1\" class=\"dataframe\">\n",
       "  <thead>\n",
       "    <tr style=\"text-align: right;\">\n",
       "      <th></th>\n",
       "      <th>Unnamed: 0</th>\n",
       "      <th>name</th>\n",
       "      <th>serving_size</th>\n",
       "      <th>calories</th>\n",
       "      <th>total_fat</th>\n",
       "      <th>saturated_fat</th>\n",
       "      <th>cholesterol</th>\n",
       "      <th>sodium</th>\n",
       "      <th>choline</th>\n",
       "      <th>folate</th>\n",
       "      <th>...</th>\n",
       "      <th>saturated_fatty_acids</th>\n",
       "      <th>monounsaturated_fatty_acids</th>\n",
       "      <th>polyunsaturated_fatty_acids</th>\n",
       "      <th>fatty_acids_total_trans</th>\n",
       "      <th>alcohol</th>\n",
       "      <th>ash</th>\n",
       "      <th>caffeine</th>\n",
       "      <th>theobromine</th>\n",
       "      <th>water</th>\n",
       "      <th>Category</th>\n",
       "    </tr>\n",
       "  </thead>\n",
       "  <tbody>\n",
       "    <tr>\n",
       "      <th>601</th>\n",
       "      <td>601</td>\n",
       "      <td>Arugula, raw</td>\n",
       "      <td>100 g</td>\n",
       "      <td>25</td>\n",
       "      <td>0.7g</td>\n",
       "      <td>0.1g</td>\n",
       "      <td>0</td>\n",
       "      <td>27.00 mg</td>\n",
       "      <td>15.3 mg</td>\n",
       "      <td>97.00 mcg</td>\n",
       "      <td>...</td>\n",
       "      <td>0.086 g</td>\n",
       "      <td>0.049 g</td>\n",
       "      <td>0.319 g</td>\n",
       "      <td>0.00 mg</td>\n",
       "      <td>0.0 g</td>\n",
       "      <td>1.40 g</td>\n",
       "      <td>0.00 mg</td>\n",
       "      <td>0.00 mg</td>\n",
       "      <td>91.71 g</td>\n",
       "      <td>Vegetables</td>\n",
       "    </tr>\n",
       "    <tr>\n",
       "      <th>312</th>\n",
       "      <td>312</td>\n",
       "      <td>Bamboo shoots, raw</td>\n",
       "      <td>100 g</td>\n",
       "      <td>27</td>\n",
       "      <td>0.3g</td>\n",
       "      <td>0.1g</td>\n",
       "      <td>0</td>\n",
       "      <td>4.00 mg</td>\n",
       "      <td>0.0 mg</td>\n",
       "      <td>7.00 mcg</td>\n",
       "      <td>...</td>\n",
       "      <td>0.069 g</td>\n",
       "      <td>0.007 g</td>\n",
       "      <td>0.134 g</td>\n",
       "      <td>0.00 mg</td>\n",
       "      <td>0.0 g</td>\n",
       "      <td>0.90 g</td>\n",
       "      <td>0.00 mg</td>\n",
       "      <td>0.00 mg</td>\n",
       "      <td>91.00 g</td>\n",
       "      <td>Vegetables</td>\n",
       "    </tr>\n",
       "    <tr>\n",
       "      <th>1176</th>\n",
       "      <td>1176</td>\n",
       "      <td>Lettuce, raw, green leaf</td>\n",
       "      <td>100 g</td>\n",
       "      <td>15</td>\n",
       "      <td>0.2g</td>\n",
       "      <td>NaN</td>\n",
       "      <td>0</td>\n",
       "      <td>28.00 mg</td>\n",
       "      <td>13.6 mg</td>\n",
       "      <td>38.00 mcg</td>\n",
       "      <td>...</td>\n",
       "      <td>0.020 g</td>\n",
       "      <td>0.006 g</td>\n",
       "      <td>0.082 g</td>\n",
       "      <td>0.00 mg</td>\n",
       "      <td>0.0 g</td>\n",
       "      <td>0.62 g</td>\n",
       "      <td>0.00 mg</td>\n",
       "      <td>0.00 mg</td>\n",
       "      <td>94.98 g</td>\n",
       "      <td>Vegetables</td>\n",
       "    </tr>\n",
       "    <tr>\n",
       "      <th>586</th>\n",
       "      <td>586</td>\n",
       "      <td>Cabbage, raw</td>\n",
       "      <td>100 g</td>\n",
       "      <td>25</td>\n",
       "      <td>0.1g</td>\n",
       "      <td>NaN</td>\n",
       "      <td>0</td>\n",
       "      <td>18.00 mg</td>\n",
       "      <td>10.7 mg</td>\n",
       "      <td>43.00 mcg</td>\n",
       "      <td>...</td>\n",
       "      <td>0.034 g</td>\n",
       "      <td>0.017 g</td>\n",
       "      <td>0.017 g</td>\n",
       "      <td>0.00 mg</td>\n",
       "      <td>0.0 g</td>\n",
       "      <td>0.64 g</td>\n",
       "      <td>0.00 mg</td>\n",
       "      <td>0.00 mg</td>\n",
       "      <td>92.18 g</td>\n",
       "      <td>Vegetables</td>\n",
       "    </tr>\n",
       "    <tr>\n",
       "      <th>5</th>\n",
       "      <td>5</td>\n",
       "      <td>Cauliflower, raw</td>\n",
       "      <td>100 g</td>\n",
       "      <td>25</td>\n",
       "      <td>0.3g</td>\n",
       "      <td>0.1g</td>\n",
       "      <td>0</td>\n",
       "      <td>30.00 mg</td>\n",
       "      <td>44.3 mg</td>\n",
       "      <td>57.00 mcg</td>\n",
       "      <td>...</td>\n",
       "      <td>0.130 g</td>\n",
       "      <td>0.034 g</td>\n",
       "      <td>0.031 g</td>\n",
       "      <td>0.00 mg</td>\n",
       "      <td>0.0 g</td>\n",
       "      <td>0.76 g</td>\n",
       "      <td>0.00 mg</td>\n",
       "      <td>0.00 mg</td>\n",
       "      <td>92.07 g</td>\n",
       "      <td>Vegetables</td>\n",
       "    </tr>\n",
       "  </tbody>\n",
       "</table>\n",
       "<p>5 rows × 78 columns</p>\n",
       "</div>"
      ],
      "text/plain": [
       "      Unnamed: 0                      name serving_size  calories total_fat  \\\n",
       "601          601              Arugula, raw        100 g        25      0.7g   \n",
       "312          312        Bamboo shoots, raw        100 g        27      0.3g   \n",
       "1176        1176  Lettuce, raw, green leaf        100 g        15      0.2g   \n",
       "586          586              Cabbage, raw        100 g        25      0.1g   \n",
       "5              5          Cauliflower, raw        100 g        25      0.3g   \n",
       "\n",
       "     saturated_fat cholesterol    sodium  choline     folate  ...  \\\n",
       "601           0.1g           0  27.00 mg  15.3 mg  97.00 mcg  ...   \n",
       "312           0.1g           0   4.00 mg   0.0 mg   7.00 mcg  ...   \n",
       "1176           NaN           0  28.00 mg  13.6 mg  38.00 mcg  ...   \n",
       "586            NaN           0  18.00 mg  10.7 mg  43.00 mcg  ...   \n",
       "5             0.1g           0  30.00 mg  44.3 mg  57.00 mcg  ...   \n",
       "\n",
       "     saturated_fatty_acids monounsaturated_fatty_acids  \\\n",
       "601                0.086 g                     0.049 g   \n",
       "312                0.069 g                     0.007 g   \n",
       "1176               0.020 g                     0.006 g   \n",
       "586                0.034 g                     0.017 g   \n",
       "5                  0.130 g                     0.034 g   \n",
       "\n",
       "     polyunsaturated_fatty_acids fatty_acids_total_trans alcohol     ash  \\\n",
       "601                      0.319 g                 0.00 mg   0.0 g  1.40 g   \n",
       "312                      0.134 g                 0.00 mg   0.0 g  0.90 g   \n",
       "1176                     0.082 g                 0.00 mg   0.0 g  0.62 g   \n",
       "586                      0.017 g                 0.00 mg   0.0 g  0.64 g   \n",
       "5                        0.031 g                 0.00 mg   0.0 g  0.76 g   \n",
       "\n",
       "     caffeine theobromine    water    Category  \n",
       "601   0.00 mg     0.00 mg  91.71 g  Vegetables  \n",
       "312   0.00 mg     0.00 mg  91.00 g  Vegetables  \n",
       "1176  0.00 mg     0.00 mg  94.98 g  Vegetables  \n",
       "586   0.00 mg     0.00 mg  92.18 g  Vegetables  \n",
       "5     0.00 mg     0.00 mg  92.07 g  Vegetables  \n",
       "\n",
       "[5 rows x 78 columns]"
      ]
     },
     "execution_count": 8,
     "metadata": {},
     "output_type": "execute_result"
    }
   ],
   "source": [
    "vegetal.head()"
   ]
  },
  {
   "cell_type": "code",
   "execution_count": 9,
   "metadata": {},
   "outputs": [],
   "source": [
    "common_fruits = ['Apricots, raw','Avocados, all commercial varieties, raw','Tomatoes, year round average, raw, ripe, red','Bananas, raw',\n",
    "                'Blueberries, raw','Blackberries, raw','Cherries, raw, sweet','Nuts, raw, coconut meat','Figs, raw','Grapes, raw, muscadine',\n",
    "                'Plums, raw','Kiwifruit, raw, green','Lemons, without peel, raw','Limes, raw',\n",
    "                'Mangos, raw','Watermelon, raw','Oranges, navels, raw','Papayas, raw','Peaches, raw, yellow',\n",
    "                'Pears, bartlett, raw','Pineapple, all varieties, raw','Strawberries, raw','Tangerines, raw, (mandarin oranges)','Melons, raw, cantaloupe',\n",
    "                'Nectarines, raw']"
   ]
  },
  {
   "cell_type": "code",
   "execution_count": 10,
   "metadata": {},
   "outputs": [],
   "source": [
    "fruits = data.loc[data['name'] == 'Apples, with skin, raw']"
   ]
  },
  {
   "cell_type": "code",
   "execution_count": 11,
   "metadata": {},
   "outputs": [],
   "source": [
    "for i in common_fruits:\n",
    "    fruits = pd.concat([fruits,data.loc[data['name'] == i]])"
   ]
  },
  {
   "cell_type": "code",
   "execution_count": 12,
   "metadata": {},
   "outputs": [],
   "source": [
    "fruits['Category'] = 'Fruits'"
   ]
  },
  {
   "cell_type": "code",
   "execution_count": 13,
   "metadata": {},
   "outputs": [],
   "source": [
    "grain = data.loc[data['name'] == 'Amaranth grain, cooked']"
   ]
  },
  {
   "cell_type": "code",
   "execution_count": 14,
   "metadata": {},
   "outputs": [],
   "source": [
    "common_grains = ['Barley, raw, pearled','Bulgur, cooked','Wheat, cooked, KAMUT khorasan','Oats','Quinoa, cooked','Wild rice, cooked','Rice, cooked, enriched, medium-grain, white',\n",
    "                'Rice, cooked, medium-grain, brown','Buckwheat','Bread, white wheat','Bread, multi-grain (includes whole-grain)','Pasta, cooked, whole-wheat'\n",
    "                ,'Potatoes, raw, flesh and skin','Cereals ready-to-eat, RALSTON Corn Flakes']"
   ]
  },
  {
   "cell_type": "code",
   "execution_count": 15,
   "metadata": {},
   "outputs": [],
   "source": [
    "for i in common_grains:\n",
    "    grain = pd.concat([grain,data.loc[data['name'] == i]])"
   ]
  },
  {
   "cell_type": "code",
   "execution_count": 16,
   "metadata": {},
   "outputs": [],
   "source": [
    "grain['Category'] = 'Grain'"
   ]
  },
  {
   "cell_type": "code",
   "execution_count": 17,
   "metadata": {},
   "outputs": [],
   "source": [
    "dairy = data.loc[data['name'] == 'Beverages, shelf stable, unsweetened, almond milk']"
   ]
  },
  {
   "cell_type": "code",
   "execution_count": 18,
   "metadata": {},
   "outputs": [],
   "source": [
    "common_dairy = ['Soymilk, unfortified, original and vanilla','Beverages, unsweetened, rice milk',\n",
    "               'Milk, whole, fluid, buttermilk','Cheese, whole milk, mozzarella','Cheese, cheddar','Cheese, brie','Cheese, gouda','Cheese, shredded, parmesan',\n",
    "               'Yogurt, whole milk, plain, Greek','Yogurt, lowfat, plain, Greek']"
   ]
  },
  {
   "cell_type": "code",
   "execution_count": 19,
   "metadata": {},
   "outputs": [],
   "source": [
    "for i in common_dairy:\n",
    "    dairy = pd.concat([dairy,data.loc[data['name'] == i]])"
   ]
  },
  {
   "cell_type": "code",
   "execution_count": 20,
   "metadata": {},
   "outputs": [],
   "source": [
    "dairy['Category'] = 'Dairy'"
   ]
  },
  {
   "cell_type": "code",
   "execution_count": 21,
   "metadata": {},
   "outputs": [],
   "source": [
    "fish = data.loc[data['name'] == 'Fish, dry heat, cooked, sockeye, salmon']"
   ]
  },
  {
   "cell_type": "code",
   "execution_count": 22,
   "metadata": {},
   "outputs": [],
   "source": [
    "common_fish = ['Fish, dry heat, cooked, Atlantic, cod','Fish, dry heat, cooked, Atlantic, herring',\n",
    "               'Fish, dry heat, cooked, Atlantic, mackerel','Fish, dry heat, cooked, Atlantic, ocean perch',\n",
    "               'Fish, dry heat, cooked, wild, rainbow, trout','Fish, dry heat, cooked, striped, bass','Fish, dry heat, cooked, bluefin, fresh, tuna',\n",
    "               'Fish, dry heat, cooked, mixed species, roe']"
   ]
  },
  {
   "cell_type": "code",
   "execution_count": 23,
   "metadata": {},
   "outputs": [],
   "source": [
    "for i in common_fish:\n",
    "    fish = pd.concat([fish,data.loc[data['name'] == i]])"
   ]
  },
  {
   "cell_type": "code",
   "execution_count": 24,
   "metadata": {},
   "outputs": [],
   "source": [
    "fish['Category'] = 'Fish'"
   ]
  },
  {
   "cell_type": "code",
   "execution_count": 25,
   "metadata": {},
   "outputs": [],
   "source": [
    "seafood = data.loc[data['name'] == 'Crustaceans, cooked (not previously frozen), shrimp']"
   ]
  },
  {
   "cell_type": "code",
   "execution_count": 26,
   "metadata": {},
   "outputs": [],
   "source": [
    "common_seafood = ['Ostrich, cooked, oyster','Mollusks, moist heat, cooked, blue, mussel','Mollusks, moist heat, cooked, mixed species, clam',\n",
    "                 'Crustaceans, moist heat, cooked, northern, lobster','Mollusks, steamed, cooked, (bay and sea), scallop','Crustaceans, moist heat, cooked, wild, mixed species, crayfish',\n",
    "                 'Mollusks, moist heat, cooked, common, octopus','Mollusks, moist heat, cooked, mixed species, cuttlefish','Mollusks, fried, cooked, mixed species, squid']"
   ]
  },
  {
   "cell_type": "code",
   "execution_count": 27,
   "metadata": {},
   "outputs": [],
   "source": [
    "for i in common_seafood:\n",
    "    seafood = pd.concat([seafood,data.loc[data['name'] == i]])"
   ]
  },
  {
   "cell_type": "code",
   "execution_count": 28,
   "metadata": {},
   "outputs": [],
   "source": [
    "seafood['Category'] = 'Seafood'"
   ]
  },
  {
   "cell_type": "code",
   "execution_count": 29,
   "metadata": {},
   "outputs": [],
   "source": [
    "meat = data.loc[data['name'] == 'Chicken, grilled, cooked, with added solution, meat only, boneless, skinless, breast, broiler or fryers']"
   ]
  },
  {
   "cell_type": "code",
   "execution_count": 30,
   "metadata": {},
   "outputs": [],
   "source": [
    "common_meat = ['Ground turkey, cooked','Lamb, broiled, cooked, ground','Bacon, meatless',\n",
    "              'Beef, grilled, cooked, select, trimmed to 0\" fat, separable lean and fat, boneless, shoulder steak',\n",
    "              'Pork, cooke.d, ground, fresh','Duck, roasted, cooked, meat only, domesticated','Game meat, stewed, cooked, wild, rabbit',\n",
    "              'Game meat, roasted, cooked, goat','Egg, fried, cooked, whole','Egg, hard-boiled, cooked, whole']\n"
   ]
  },
  {
   "cell_type": "code",
   "execution_count": 31,
   "metadata": {},
   "outputs": [],
   "source": [
    "for i in common_meat:\n",
    "    meat = pd.concat([meat,data.loc[data['name'] == i]])"
   ]
  },
  {
   "cell_type": "code",
   "execution_count": 32,
   "metadata": {},
   "outputs": [],
   "source": [
    "meat['Category'] = 'Meat'"
   ]
  },
  {
   "cell_type": "code",
   "execution_count": 33,
   "metadata": {},
   "outputs": [],
   "source": [
    "oils = data.loc[data['name'] == 'Oil, avocado']"
   ]
  },
  {
   "cell_type": "code",
   "execution_count": 34,
   "metadata": {},
   "outputs": [],
   "source": [
    "common_oils = ['Oil, canola','Oil, coconut','Oil, salad or cooking, olive','Oil, salad or cooking, soybean','Oil, sunflower, mid-oleic, industrial',\n",
    "              'Vegetable oil, palm kernel','Butter, salted','Margarine Spread, tub, approximately 48% fat','Butter, without salt']\n"
   ]
  },
  {
   "cell_type": "code",
   "execution_count": 35,
   "metadata": {},
   "outputs": [],
   "source": [
    "for i in common_oils:\n",
    "    oils = pd.concat([oils,data.loc[data['name'] == i]])"
   ]
  },
  {
   "cell_type": "code",
   "execution_count": 36,
   "metadata": {},
   "outputs": [],
   "source": [
    "oils['Category'] = 'Oils and Fat'"
   ]
  },
  {
   "cell_type": "code",
   "execution_count": 37,
   "metadata": {},
   "outputs": [],
   "source": [
    "final_data = pd.concat([vegetal,fruits,fish,meat,seafood,dairy,oils,grain])"
   ]
  },
  {
   "cell_type": "code",
   "execution_count": 38,
   "metadata": {},
   "outputs": [],
   "source": [
    "almost_data = final_data[['name','Category','calories','total_fat','fiber','protein','carbohydrate','sugars']]"
   ]
  },
  {
   "cell_type": "code",
   "execution_count": 39,
   "metadata": {},
   "outputs": [],
   "source": [
    "names = ['Arugula','Bamboo shoots','Lettuce','Cabbage','Cauliflower','Leeks','Broccoli','Eggplant','Brussels sprouts','Asparagus','Onions',\n",
    "        'Sweet Onions','Garlic','Jalapeno Peppers','Spinach','Carrots','Green Peas','Ginger root','Corn','Pumpkin','Mushrooms',\n",
    "        'Apples','Apricots','Avocados','Tomatoes','Bananas','Blueberries','Blackberries','Cherries','Coconut','Figs','Grapes',\n",
    "        'Plums','Kiwi','Lemons','Limes','Mango','Watermelon','Orange','Papaya','Peach','Pear','Pineapple','Strawberry','Tangerine',\n",
    "        'Melon','Nectarine','Salmon','Cod','Herring','Mackerel','Perch','Trout','Bass','Tuna','Roe','Chicken','Turkey','Lamb',\n",
    "        'Bacon','Beef','Duck','Rabbit','Goat','Fried Egg','Boiled Egg','Shrimp','Oyster','Mussel','Clam','Lobster','Scallop',\n",
    "        'Crayfish','Octopus','Cuttlefish','Squid','Almond Milk','Soy Milk','Rice Milk','Whole Milk','Mozzarella Cheese',\n",
    "        'Cheddar Cheese','Brie Cheese','Gouda Cheese','Parmesan Cheese','Greek Plain Yogurt','Lowfat Greek Plain Yogurt',\n",
    "         'Avocado Oil','Canola Oil','Coconut Oil','Olive Oil','Soybean Oil','Sunflower Oil','Vegetable Oil','Butter with Salt','Margarine',\n",
    "         'Butter without Salt','Amaranth','Barley','Bulgur','Wheat','Oats','Quinoa','Wild Rice','White Rice','Brown Rice','Buckwheat',\n",
    "         'White Bread','Multi-grain Bread','Pasta','Potatoes','Corn Flakes']"
   ]
  },
  {
   "cell_type": "code",
   "execution_count": 40,
   "metadata": {},
   "outputs": [],
   "source": [
    "almost_data.index = pd.Series(names)"
   ]
  },
  {
   "cell_type": "code",
   "execution_count": 41,
   "metadata": {},
   "outputs": [],
   "source": [
    "almost_data.drop('name',inplace = True,axis = 1)"
   ]
  },
  {
   "cell_type": "code",
   "execution_count": 42,
   "metadata": {},
   "outputs": [],
   "source": [
    "str_columns = ['total_fat', 'fiber', 'protein', 'carbohydrate','sugars']\n",
    "for i in str_columns:\n",
    "    almost_data[i] = almost_data[i].map(lambda x: x.rstrip('g'))\n",
    "    almost_data[i] = almost_data[i].map(lambda x: float(x))"
   ]
  },
  {
   "cell_type": "code",
   "execution_count": 43,
   "metadata": {},
   "outputs": [],
   "source": [
    "total_data = almost_data.copy()\n",
    "vegetal_data = almost_data.loc[almost_data['Category']=='Vegetables']\n",
    "grains_data = almost_data.loc[almost_data['Category']=='Grain']\n",
    "dairy_data = almost_data.loc[almost_data['Category']=='Dairy']\n",
    "meat_data = almost_data.loc[almost_data['Category']=='Meat']\n",
    "seafood_data = almost_data.loc[almost_data['Category']=='Seafood']\n",
    "oils_data = almost_data.loc[almost_data['Category']=='Oils and Fat']\n",
    "fish_data = almost_data.loc[almost_data['Category']=='Fish']\n",
    "fruits_data = almost_data.loc[almost_data['Category']=='Fruits']"
   ]
  },
  {
   "cell_type": "code",
   "execution_count": null,
   "metadata": {},
   "outputs": [],
   "source": [
    "total_data.to_csv('total_data.csv')\n",
    "vegetal_data.to_csv('vegetal_data.csv')\n",
    "grains_data.to_csv('grains_data.csv')\n",
    "dairy_data.to_csv('dairy_data.csv')\n",
    "meat_data.to_csv('meat_data.csv')\n",
    "seafood_data.to_csv('seafood_data.csv')\n",
    "oils_data.to_csv('oils_data.csv')\n",
    "fish_data.to_csv('fish_data.csv')\n",
    "fruits_data.to_csv('fruits_data.csv')"
   ]
  }
 ],
 "metadata": {
  "kernelspec": {
   "display_name": "Python 3 (ipykernel)",
   "language": "python",
   "name": "python3"
  },
  "language_info": {
   "codemirror_mode": {
    "name": "ipython",
    "version": 3
   },
   "file_extension": ".py",
   "mimetype": "text/x-python",
   "name": "python",
   "nbconvert_exporter": "python",
   "pygments_lexer": "ipython3",
   "version": "3.9.7"
  }
 },
 "nbformat": 4,
 "nbformat_minor": 4
}
